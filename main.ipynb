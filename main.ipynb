{
 "cells": [
  {
   "cell_type": "code",
   "execution_count": 1,
   "metadata": {},
   "outputs": [],
   "source": [
    "import pandas as pd"
   ]
  },
  {
   "cell_type": "code",
   "execution_count": 63,
   "metadata": {},
   "outputs": [],
   "source": [
    "chems = pd.read_table(\"data\\CHEMICALS.chemtab.txt\", index_col=0, na_values=[\"-\"])\n",
    "genes = pd.read_table(\"data\\GENES.projectindex.txt\", na_values=[\"-\"])\n",
    "interactions = pd.read_table(\"data\\INTERACTIONS.tab3.txt\", na_values=[\"-\", \"-|-\", \"-|-|-\", \"-|-|-|-\", \"-|-|-|-|-\"], low_memory=False)\n",
    "ptm = pd.read_table(\"data\\PTM.ptmtab.txt\", na_values=[\"-\"])"
   ]
  },
  {
   "cell_type": "code",
   "execution_count": 64,
   "metadata": {},
   "outputs": [],
   "source": [
    "chems.columns = chems.columns.str.strip(\"#\").str.upper().str.replace(\" \", \"_\")\n",
    "genes.columns = genes.columns.str.strip(\"#\").str.upper().str.replace(\" \", \"_\")\n",
    "interactions.columns = interactions.columns.str.strip(\"#\").str.upper().str.replace(\" \", \"_\")\n",
    "ptm.columns = ptm.columns.str.strip(\"#\").str.upper().str.replace(\" \", \"_\")"
   ]
  },
  {
   "cell_type": "code",
   "execution_count": null,
   "metadata": {},
   "outputs": [],
   "source": []
  }
 ],
 "metadata": {
  "interpreter": {
   "hash": "18f456d992e411895f85d161c765ba15af73e07f2abfa95e48c62e679a35999b"
  },
  "kernelspec": {
   "display_name": "Python 3.8.6 64-bit",
   "name": "python3"
  },
  "language_info": {
   "codemirror_mode": {
    "name": "ipython",
    "version": 3
   },
   "file_extension": ".py",
   "mimetype": "text/x-python",
   "name": "python",
   "nbconvert_exporter": "python",
   "pygments_lexer": "ipython3",
   "version": "3.8.6"
  },
  "orig_nbformat": 4
 },
 "nbformat": 4,
 "nbformat_minor": 2
}
